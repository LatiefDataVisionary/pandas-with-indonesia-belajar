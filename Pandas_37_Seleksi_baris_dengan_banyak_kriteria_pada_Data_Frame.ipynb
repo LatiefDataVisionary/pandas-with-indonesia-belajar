{
  "nbformat": 4,
  "nbformat_minor": 0,
  "metadata": {
    "colab": {
      "provenance": [],
      "authorship_tag": "ABX9TyOGERsLCH5l05uB2EkCPxkF",
      "include_colab_link": true
    },
    "kernelspec": {
      "name": "python3",
      "display_name": "Python 3"
    },
    "language_info": {
      "name": "python"
    }
  },
  "cells": [
    {
      "cell_type": "markdown",
      "metadata": {
        "id": "view-in-github",
        "colab_type": "text"
      },
      "source": [
        "<a href=\"https://colab.research.google.com/github/LatiefDataVisionary/pandas-with-indonesia-belajar/blob/main/Pandas_37_Seleksi_baris_dengan_banyak_kriteria_pada_Data_Frame.ipynb\" target=\"_parent\"><img src=\"https://colab.research.google.com/assets/colab-badge.svg\" alt=\"Open In Colab\"/></a>"
      ]
    },
    {
      "cell_type": "markdown",
      "source": [
        "## **Pandas 37: Seleksi baris dengan banyak kriteria pada Data Frame _ Python Pandas _ Data Science**"
      ],
      "metadata": {
        "id": "PtHInt5bmazc"
      }
    },
    {
      "cell_type": "code",
      "execution_count": null,
      "metadata": {
        "id": "Z2OK3thvmWlv"
      },
      "outputs": [],
      "source": [
        "import pandas as pd\n",
        "import numpy as np\n",
        "\n",
        "print(pd.__version__)\n",
        "print(np.__version__)"
      ]
    },
    {
      "cell_type": "markdown",
      "source": [
        "Persiapan DataFrame"
      ],
      "metadata": {
        "id": "bBETR8cYHEre"
      }
    },
    {
      "cell_type": "code",
      "source": [],
      "metadata": {
        "id": "YXu-y8StHGo_"
      },
      "execution_count": null,
      "outputs": []
    }
  ]
}
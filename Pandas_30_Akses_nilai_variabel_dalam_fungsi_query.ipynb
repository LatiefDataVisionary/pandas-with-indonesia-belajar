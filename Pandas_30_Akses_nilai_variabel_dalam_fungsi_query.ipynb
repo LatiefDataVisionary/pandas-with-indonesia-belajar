{
  "nbformat": 4,
  "nbformat_minor": 0,
  "metadata": {
    "colab": {
      "provenance": [],
      "authorship_tag": "ABX9TyP+LuosRzrxZhpOqoTv9cv8",
      "include_colab_link": true
    },
    "kernelspec": {
      "name": "python3",
      "display_name": "Python 3"
    },
    "language_info": {
      "name": "python"
    }
  },
  "cells": [
    {
      "cell_type": "markdown",
      "metadata": {
        "id": "view-in-github",
        "colab_type": "text"
      },
      "source": [
        "<a href=\"https://colab.research.google.com/github/LatiefDataVisionary/pandas-with-indonesia-belajar/blob/main/Pandas_30_Akses_nilai_variabel_dalam_fungsi_query.ipynb\" target=\"_parent\"><img src=\"https://colab.research.google.com/assets/colab-badge.svg\" alt=\"Open In Colab\"/></a>"
      ]
    },
    {
      "cell_type": "markdown",
      "source": [
        "## **Pandas 30: Akses nilai variabel dalam fungsi query _ Pandas Data Frame _ Belajar Data Science**"
      ],
      "metadata": {
        "id": "oa2bCNf_mfG9"
      }
    },
    {
      "cell_type": "code",
      "execution_count": null,
      "metadata": {
        "id": "Eo227HKXmarv"
      },
      "outputs": [],
      "source": [
        "import pandas as pd\n",
        "import numpy as np\n",
        "\n",
        "print(pd.__version__)\n",
        "print(np.__version__)"
      ]
    },
    {
      "cell_type": "markdown",
      "source": [
        "Persiapan DataFrame"
      ],
      "metadata": {
        "id": "1P1vc1bFnHtk"
      }
    },
    {
      "cell_type": "code",
      "source": [],
      "metadata": {
        "id": "iRqCfi8anHh1"
      },
      "execution_count": null,
      "outputs": []
    }
  ]
}
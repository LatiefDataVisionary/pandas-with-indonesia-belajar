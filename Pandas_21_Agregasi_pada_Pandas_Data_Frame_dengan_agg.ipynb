{
  "nbformat": 4,
  "nbformat_minor": 0,
  "metadata": {
    "colab": {
      "provenance": [],
      "authorship_tag": "ABX9TyM0uMlZ3JgySoh0+XQ/R6ri",
      "include_colab_link": true
    },
    "kernelspec": {
      "name": "python3",
      "display_name": "Python 3"
    },
    "language_info": {
      "name": "python"
    }
  },
  "cells": [
    {
      "cell_type": "markdown",
      "metadata": {
        "id": "view-in-github",
        "colab_type": "text"
      },
      "source": [
        "<a href=\"https://colab.research.google.com/github/LatiefDataVisionary/pandas-with-indonesia-belajar/blob/main/Pandas_21_Agregasi_pada_Pandas_Data_Frame_dengan_agg.ipynb\" target=\"_parent\"><img src=\"https://colab.research.google.com/assets/colab-badge.svg\" alt=\"Open In Colab\"/></a>"
      ]
    },
    {
      "cell_type": "markdown",
      "source": [
        "Pandas 21: Agregasi pada Pandas Data Frame dengan agg _ Python Pandas _ Belajar Data Science"
      ],
      "metadata": {
        "id": "IM3KWaeTggCT"
      }
    },
    {
      "cell_type": "code",
      "execution_count": null,
      "metadata": {
        "id": "kagxTwt9JVxo"
      },
      "outputs": [],
      "source": []
    }
  ]
}
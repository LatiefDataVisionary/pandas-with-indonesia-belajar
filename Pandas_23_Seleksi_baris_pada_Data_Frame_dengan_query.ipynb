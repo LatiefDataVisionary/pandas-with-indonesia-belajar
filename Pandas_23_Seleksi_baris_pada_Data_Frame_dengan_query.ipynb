{
  "nbformat": 4,
  "nbformat_minor": 0,
  "metadata": {
    "colab": {
      "provenance": [],
      "authorship_tag": "ABX9TyNZSfFKwajMPDnpMFtoVPIK",
      "include_colab_link": true
    },
    "kernelspec": {
      "name": "python3",
      "display_name": "Python 3"
    },
    "language_info": {
      "name": "python"
    }
  },
  "cells": [
    {
      "cell_type": "markdown",
      "metadata": {
        "id": "view-in-github",
        "colab_type": "text"
      },
      "source": [
        "<a href=\"https://colab.research.google.com/github/LatiefDataVisionary/pandas-with-indonesia-belajar/blob/main/Pandas_23_Seleksi_baris_pada_Data_Frame_dengan_query.ipynb\" target=\"_parent\"><img src=\"https://colab.research.google.com/assets/colab-badge.svg\" alt=\"Open In Colab\"/></a>"
      ]
    },
    {
      "cell_type": "markdown",
      "source": [
        "## **Pandas 23: Seleksi baris pada Data Frame dengan query _ Python Pandas _ Belajar Data Science**"
      ],
      "metadata": {
        "id": "V4gGp7nEhT5m"
      }
    },
    {
      "cell_type": "code",
      "execution_count": null,
      "metadata": {
        "id": "aven1fw3hTMn"
      },
      "outputs": [],
      "source": []
    }
  ]
}
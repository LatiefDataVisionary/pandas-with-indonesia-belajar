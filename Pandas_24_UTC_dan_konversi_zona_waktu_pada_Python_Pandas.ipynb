{
  "nbformat": 4,
  "nbformat_minor": 0,
  "metadata": {
    "colab": {
      "provenance": [],
      "authorship_tag": "ABX9TyOmI62sDq33oWvplP3i5XpE",
      "include_colab_link": true
    },
    "kernelspec": {
      "name": "python3",
      "display_name": "Python 3"
    },
    "language_info": {
      "name": "python"
    }
  },
  "cells": [
    {
      "cell_type": "markdown",
      "metadata": {
        "id": "view-in-github",
        "colab_type": "text"
      },
      "source": [
        "<a href=\"https://colab.research.google.com/github/LatiefDataVisionary/pandas-with-indonesia-belajar/blob/main/Pandas_24_UTC_dan_konversi_zona_waktu_pada_Python_Pandas.ipynb\" target=\"_parent\"><img src=\"https://colab.research.google.com/assets/colab-badge.svg\" alt=\"Open In Colab\"/></a>"
      ]
    },
    {
      "cell_type": "markdown",
      "source": [
        "## **Pandas 24: UTC dan konversi zona waktu pada Python Pandas _ time zone _ Belajar Data Science**"
      ],
      "metadata": {
        "id": "f0oZQo-4hG1k"
      }
    },
    {
      "cell_type": "code",
      "execution_count": 1,
      "metadata": {
        "id": "Agm9_gi9hAuw",
        "colab": {
          "base_uri": "https://localhost:8080/"
        },
        "outputId": "f456d927-fa2a-4de2-e331-c2996d7b286c"
      },
      "outputs": [
        {
          "output_type": "stream",
          "name": "stdout",
          "text": [
            "2.2.2\n",
            "1.26.4\n"
          ]
        }
      ],
      "source": [
        "import pandas as pd\n",
        "import numpy as np\n",
        "print(pd.__version__)\n",
        "print(np.__version__)"
      ]
    },
    {
      "cell_type": "markdown",
      "source": [
        "Persiapan DataFrame"
      ],
      "metadata": {
        "id": "CLZOCXUWkTiU"
      }
    },
    {
      "cell_type": "code",
      "source": [],
      "metadata": {
        "id": "piF2yx9pkV3Z"
      },
      "execution_count": null,
      "outputs": []
    }
  ]
}
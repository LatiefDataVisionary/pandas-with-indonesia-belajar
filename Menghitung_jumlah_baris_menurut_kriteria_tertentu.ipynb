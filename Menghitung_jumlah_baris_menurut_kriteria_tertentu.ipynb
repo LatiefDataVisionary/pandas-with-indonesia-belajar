{
  "nbformat": 4,
  "nbformat_minor": 0,
  "metadata": {
    "colab": {
      "provenance": [],
      "authorship_tag": "ABX9TyNlibEbQK91sToZ7mts3UQS",
      "include_colab_link": true
    },
    "kernelspec": {
      "name": "python3",
      "display_name": "Python 3"
    },
    "language_info": {
      "name": "python"
    }
  },
  "cells": [
    {
      "cell_type": "markdown",
      "metadata": {
        "id": "view-in-github",
        "colab_type": "text"
      },
      "source": [
        "<a href=\"https://colab.research.google.com/github/LatiefDataVisionary/pandas-with-indonesia-belajar/blob/main/Menghitung_jumlah_baris_menurut_kriteria_tertentu.ipynb\" target=\"_parent\"><img src=\"https://colab.research.google.com/assets/colab-badge.svg\" alt=\"Open In Colab\"/></a>"
      ]
    },
    {
      "cell_type": "markdown",
      "source": [
        "## **Pandas 55: Menghitung jumlah baris menurut kriteria tertentu | Python Pandas | Belajar Data Science**\n"
      ],
      "metadata": {
        "id": "jX_wGE8NPqfW"
      }
    },
    {
      "cell_type": "code",
      "execution_count": null,
      "metadata": {
        "id": "0VoxqeKPPpS-"
      },
      "outputs": [],
      "source": [
        "import pandas as pd\n",
        "import numpy as np\n",
        "\n",
        "print(pd.__version__)\n",
        "print(np.__version__)"
      ]
    },
    {
      "cell_type": "markdown",
      "source": [
        "Persiapan DataFrame"
      ],
      "metadata": {
        "id": "AngygZfRPyi7"
      }
    },
    {
      "cell_type": "code",
      "source": [],
      "metadata": {
        "id": "kFMdl3zzPyXs"
      },
      "execution_count": null,
      "outputs": []
    }
  ]
}
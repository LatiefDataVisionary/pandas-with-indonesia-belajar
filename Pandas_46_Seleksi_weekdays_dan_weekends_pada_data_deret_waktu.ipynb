{
  "nbformat": 4,
  "nbformat_minor": 0,
  "metadata": {
    "colab": {
      "provenance": [],
      "authorship_tag": "ABX9TyPKv93MhEqspDwFdFx0subI",
      "include_colab_link": true
    },
    "kernelspec": {
      "name": "python3",
      "display_name": "Python 3"
    },
    "language_info": {
      "name": "python"
    }
  },
  "cells": [
    {
      "cell_type": "markdown",
      "metadata": {
        "id": "view-in-github",
        "colab_type": "text"
      },
      "source": [
        "<a href=\"https://colab.research.google.com/github/LatiefDataVisionary/pandas-with-indonesia-belajar/blob/main/Pandas_46_Seleksi_weekdays_dan_weekends_pada_data_deret_waktu.ipynb\" target=\"_parent\"><img src=\"https://colab.research.google.com/assets/colab-badge.svg\" alt=\"Open In Colab\"/></a>"
      ]
    },
    {
      "cell_type": "markdown",
      "source": [
        "## **Pandas 46: Seleksi weekdays dan weekends pada data deret waktu | time series | Python Pandas**\n"
      ],
      "metadata": {
        "id": "Gobv3eR5Koly"
      }
    },
    {
      "cell_type": "code",
      "execution_count": null,
      "metadata": {
        "id": "f2uT0lWIKhHR"
      },
      "outputs": [],
      "source": [
        "import numpy as np\n",
        "import pandas as pd"
      ]
    },
    {
      "cell_type": "markdown",
      "source": [
        "Persiapan DataFrame"
      ],
      "metadata": {
        "id": "jXNlnaTHKzaR"
      }
    },
    {
      "cell_type": "code",
      "source": [],
      "metadata": {
        "id": "6fL2ZNbaKzy8"
      },
      "execution_count": null,
      "outputs": []
    }
  ]
}
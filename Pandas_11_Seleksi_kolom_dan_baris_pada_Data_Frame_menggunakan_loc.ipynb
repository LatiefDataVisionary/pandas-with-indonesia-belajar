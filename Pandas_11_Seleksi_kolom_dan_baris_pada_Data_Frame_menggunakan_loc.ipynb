{
  "nbformat": 4,
  "nbformat_minor": 0,
  "metadata": {
    "colab": {
      "provenance": [],
      "authorship_tag": "ABX9TyOf7DyUvHU51NZ4Jpgfq50A",
      "include_colab_link": true
    },
    "kernelspec": {
      "name": "python3",
      "display_name": "Python 3"
    },
    "language_info": {
      "name": "python"
    }
  },
  "cells": [
    {
      "cell_type": "markdown",
      "metadata": {
        "id": "view-in-github",
        "colab_type": "text"
      },
      "source": [
        "<a href=\"https://colab.research.google.com/github/LatiefDataVisionary/pandas-with-indonesia-belajar/blob/main/Pandas_11_Seleksi_kolom_dan_baris_pada_Data_Frame_menggunakan_loc.ipynb\" target=\"_parent\"><img src=\"https://colab.research.google.com/assets/colab-badge.svg\" alt=\"Open In Colab\"/></a>"
      ]
    },
    {
      "cell_type": "markdown",
      "source": [
        "Pandas 11: Seleksi kolom dan baris pada Data Frame menggunakan loc _ Python Pandas _ Data Science"
      ],
      "metadata": {
        "id": "QEspreD93ELk"
      }
    },
    {
      "cell_type": "code",
      "execution_count": null,
      "metadata": {
        "id": "aQxUjEx33BMb"
      },
      "outputs": [],
      "source": []
    }
  ]
}
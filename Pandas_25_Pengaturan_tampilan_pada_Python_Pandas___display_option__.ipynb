{
  "nbformat": 4,
  "nbformat_minor": 0,
  "metadata": {
    "colab": {
      "provenance": [],
      "authorship_tag": "ABX9TyN61DIeQi7Dn7Rdi0/3379C",
      "include_colab_link": true
    },
    "kernelspec": {
      "name": "python3",
      "display_name": "Python 3"
    },
    "language_info": {
      "name": "python"
    }
  },
  "cells": [
    {
      "cell_type": "markdown",
      "metadata": {
        "id": "view-in-github",
        "colab_type": "text"
      },
      "source": [
        "<a href=\"https://colab.research.google.com/github/LatiefDataVisionary/pandas-with-indonesia-belajar/blob/main/Pandas_25_Pengaturan_tampilan_pada_Python_Pandas___display_option__.ipynb\" target=\"_parent\"><img src=\"https://colab.research.google.com/assets/colab-badge.svg\" alt=\"Open In Colab\"/></a>"
      ]
    },
    {
      "cell_type": "markdown",
      "source": [
        "## **Pandas 25: Pengaturan tampilan pada Python Pandas _ display option _ Belajar Data Science**"
      ],
      "metadata": {
        "id": "5RDXQWbehtWB"
      }
    },
    {
      "cell_type": "code",
      "execution_count": 2,
      "metadata": {
        "id": "7X8J8-Hkhf8l",
        "colab": {
          "base_uri": "https://localhost:8080/"
        },
        "outputId": "c358550e-ec02-44b8-82d7-c019b28bd800"
      },
      "outputs": [
        {
          "output_type": "stream",
          "name": "stdout",
          "text": [
            "2.2.2\n",
            "1.26.4\n"
          ]
        }
      ],
      "source": [
        "import numpy as np\n",
        "import pandas as pd\n",
        "\n",
        "print(pd.__version__)\n",
        "print(np.__version__)"
      ]
    },
    {
      "cell_type": "markdown",
      "source": [
        "Persiapan DataFrame"
      ],
      "metadata": {
        "id": "A9z9Zcekkm0F"
      }
    },
    {
      "cell_type": "code",
      "source": [],
      "metadata": {
        "id": "e5SRLXJ6ksdR"
      },
      "execution_count": null,
      "outputs": []
    }
  ]
}
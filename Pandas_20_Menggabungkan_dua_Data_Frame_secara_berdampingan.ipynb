{
  "nbformat": 4,
  "nbformat_minor": 0,
  "metadata": {
    "colab": {
      "provenance": [],
      "authorship_tag": "ABX9TyN8YiGVQHFgnKMyxhrxrAW1",
      "include_colab_link": true
    },
    "kernelspec": {
      "name": "python3",
      "display_name": "Python 3"
    },
    "language_info": {
      "name": "python"
    }
  },
  "cells": [
    {
      "cell_type": "markdown",
      "metadata": {
        "id": "view-in-github",
        "colab_type": "text"
      },
      "source": [
        "<a href=\"https://colab.research.google.com/github/LatiefDataVisionary/pandas-with-indonesia-belajar/blob/main/Pandas_20_Menggabungkan_dua_Data_Frame_secara_berdampingan.ipynb\" target=\"_parent\"><img src=\"https://colab.research.google.com/assets/colab-badge.svg\" alt=\"Open In Colab\"/></a>"
      ]
    },
    {
      "cell_type": "markdown",
      "source": [
        "## **Pandas 20: Menggabungkan dua Data Frame secara berdampingan _ Python Pandas _ Data Science**"
      ],
      "metadata": {
        "id": "k_Ij2TCsIDAn"
      }
    },
    {
      "cell_type": "code",
      "execution_count": null,
      "metadata": {
        "id": "omZOqbk3hLUt"
      },
      "outputs": [],
      "source": []
    }
  ]
}
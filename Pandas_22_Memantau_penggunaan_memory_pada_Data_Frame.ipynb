{
  "nbformat": 4,
  "nbformat_minor": 0,
  "metadata": {
    "colab": {
      "provenance": [],
      "authorship_tag": "ABX9TyMPu0eGCkKFkaYa5p1rNrMm",
      "include_colab_link": true
    },
    "kernelspec": {
      "name": "python3",
      "display_name": "Python 3"
    },
    "language_info": {
      "name": "python"
    }
  },
  "cells": [
    {
      "cell_type": "markdown",
      "metadata": {
        "id": "view-in-github",
        "colab_type": "text"
      },
      "source": [
        "<a href=\"https://colab.research.google.com/github/LatiefDataVisionary/pandas-with-indonesia-belajar/blob/main/Pandas_22_Memantau_penggunaan_memory_pada_Data_Frame.ipynb\" target=\"_parent\"><img src=\"https://colab.research.google.com/assets/colab-badge.svg\" alt=\"Open In Colab\"/></a>"
      ]
    },
    {
      "cell_type": "markdown",
      "source": [
        "## **Pandas 22: Memantau penggunaan memory pada Data Frame _ Python Pandas _ Belajar Data Science**"
      ],
      "metadata": {
        "id": "7zc8vQ-8g5tf"
      }
    },
    {
      "cell_type": "code",
      "source": [],
      "metadata": {
        "id": "tt8g9r9Ug5av"
      },
      "execution_count": null,
      "outputs": []
    },
    {
      "cell_type": "code",
      "execution_count": null,
      "metadata": {
        "id": "c5ukCUjWgwF2"
      },
      "outputs": [],
      "source": []
    }
  ]
}
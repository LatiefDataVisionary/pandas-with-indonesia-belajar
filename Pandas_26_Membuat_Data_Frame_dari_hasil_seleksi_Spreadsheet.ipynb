{
  "nbformat": 4,
  "nbformat_minor": 0,
  "metadata": {
    "colab": {
      "provenance": [],
      "authorship_tag": "ABX9TyOWbzmlANaDQTB8tSUoohX4",
      "include_colab_link": true
    },
    "kernelspec": {
      "name": "python3",
      "display_name": "Python 3"
    },
    "language_info": {
      "name": "python"
    }
  },
  "cells": [
    {
      "cell_type": "markdown",
      "metadata": {
        "id": "view-in-github",
        "colab_type": "text"
      },
      "source": [
        "<a href=\"https://colab.research.google.com/github/LatiefDataVisionary/pandas-with-indonesia-belajar/blob/main/Pandas_26_Membuat_Data_Frame_dari_hasil_seleksi_Spreadsheet.ipynb\" target=\"_parent\"><img src=\"https://colab.research.google.com/assets/colab-badge.svg\" alt=\"Open In Colab\"/></a>"
      ]
    },
    {
      "cell_type": "markdown",
      "source": [
        "## **Pandas 26: Membuat Data Frame dari hasil seleksi Spreadsheet _ Python Pandas _ Belajar Data Science**"
      ],
      "metadata": {
        "id": "2fpFgnkylLRN"
      }
    },
    {
      "cell_type": "code",
      "execution_count": 1,
      "metadata": {
        "id": "jPBMX3GglGo5",
        "colab": {
          "base_uri": "https://localhost:8080/"
        },
        "outputId": "1ffbbd57-9a49-4a39-9b72-948c9e1d509f"
      },
      "outputs": [
        {
          "output_type": "stream",
          "name": "stdout",
          "text": [
            "2.2.2\n",
            "1.26.4\n"
          ]
        }
      ],
      "source": [
        "import pandas as pd\n",
        "import numpy as np\n",
        "\n",
        "print(pd.__version__)\n",
        "print(np.__version__)"
      ]
    },
    {
      "cell_type": "markdown",
      "source": [
        "Persiapan DataFrame dari hasil seleksi Spreadsheet"
      ],
      "metadata": {
        "id": "Vq1KSFKYlYCi"
      }
    },
    {
      "cell_type": "code",
      "source": [
        "df = pd.read_clipboard()\n",
        "df"
      ],
      "metadata": {
        "id": "9OnCX92tlazi"
      },
      "execution_count": null,
      "outputs": []
    }
  ]
}
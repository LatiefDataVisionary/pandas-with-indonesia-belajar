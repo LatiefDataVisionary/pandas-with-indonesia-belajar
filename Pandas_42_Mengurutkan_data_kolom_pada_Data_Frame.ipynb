{
  "nbformat": 4,
  "nbformat_minor": 0,
  "metadata": {
    "colab": {
      "provenance": [],
      "authorship_tag": "ABX9TyMUENSOyecD+M/DJO+FxD2+",
      "include_colab_link": true
    },
    "kernelspec": {
      "name": "python3",
      "display_name": "Python 3"
    },
    "language_info": {
      "name": "python"
    }
  },
  "cells": [
    {
      "cell_type": "markdown",
      "metadata": {
        "id": "view-in-github",
        "colab_type": "text"
      },
      "source": [
        "<a href=\"https://colab.research.google.com/github/LatiefDataVisionary/pandas-with-indonesia-belajar/blob/main/Pandas_42_Mengurutkan_data_kolom_pada_Data_Frame.ipynb\" target=\"_parent\"><img src=\"https://colab.research.google.com/assets/colab-badge.svg\" alt=\"Open In Colab\"/></a>"
      ]
    },
    {
      "cell_type": "markdown",
      "source": [
        "## **Pandas 42: Mengurutkan data kolom pada Data Frame | Python Pandas | Belajar Data Science**\n"
      ],
      "metadata": {
        "id": "_HZ13KTpEgEs"
      }
    },
    {
      "cell_type": "code",
      "execution_count": null,
      "metadata": {
        "id": "_034C2RDEcvX"
      },
      "outputs": [],
      "source": [
        "import pandas as pd\n",
        "import numpy as np"
      ]
    },
    {
      "cell_type": "markdown",
      "source": [
        "Persiapan DataFrame"
      ],
      "metadata": {
        "id": "_By3BIRXEqp-"
      }
    },
    {
      "cell_type": "code",
      "source": [],
      "metadata": {
        "id": "Vua1MyfTEs3M"
      },
      "execution_count": null,
      "outputs": []
    }
  ]
}
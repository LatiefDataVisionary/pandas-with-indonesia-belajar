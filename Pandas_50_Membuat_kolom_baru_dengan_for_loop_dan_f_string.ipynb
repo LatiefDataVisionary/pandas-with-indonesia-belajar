{
  "nbformat": 4,
  "nbformat_minor": 0,
  "metadata": {
    "colab": {
      "provenance": [],
      "authorship_tag": "ABX9TyMZ5Dv4/zLeWsM539W2f2jY",
      "include_colab_link": true
    },
    "kernelspec": {
      "name": "python3",
      "display_name": "Python 3"
    },
    "language_info": {
      "name": "python"
    }
  },
  "cells": [
    {
      "cell_type": "markdown",
      "metadata": {
        "id": "view-in-github",
        "colab_type": "text"
      },
      "source": [
        "<a href=\"https://colab.research.google.com/github/LatiefDataVisionary/pandas-with-indonesia-belajar/blob/main/Pandas_50_Membuat_kolom_baru_dengan_for_loop_dan_f_string.ipynb\" target=\"_parent\"><img src=\"https://colab.research.google.com/assets/colab-badge.svg\" alt=\"Open In Colab\"/></a>"
      ]
    },
    {
      "cell_type": "markdown",
      "source": [
        "## **Pandas 50: Membuat kolom baru dengan for loop dan f-string | Python Pandas | Data Science**\n"
      ],
      "metadata": {
        "id": "wWIB0z_YOOo2"
      }
    },
    {
      "cell_type": "code",
      "execution_count": null,
      "metadata": {
        "id": "tStImnnRONNH"
      },
      "outputs": [],
      "source": [
        "import pandas as pd\n",
        "import numpy as pd"
      ]
    },
    {
      "cell_type": "markdown",
      "source": [
        "Persiapan DataFrame"
      ],
      "metadata": {
        "id": "QvQ6cuoJOXUU"
      }
    },
    {
      "cell_type": "code",
      "source": [],
      "metadata": {
        "id": "Ebd-uAeFOXFT"
      },
      "execution_count": null,
      "outputs": []
    }
  ]
}
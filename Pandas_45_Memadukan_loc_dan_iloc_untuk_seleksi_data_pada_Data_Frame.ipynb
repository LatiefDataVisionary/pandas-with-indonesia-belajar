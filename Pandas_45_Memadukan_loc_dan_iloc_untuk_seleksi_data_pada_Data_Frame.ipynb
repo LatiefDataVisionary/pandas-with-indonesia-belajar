{
  "nbformat": 4,
  "nbformat_minor": 0,
  "metadata": {
    "colab": {
      "provenance": [],
      "authorship_tag": "ABX9TyNW4er0VpuF5+eDxatqkBkC",
      "include_colab_link": true
    },
    "kernelspec": {
      "name": "python3",
      "display_name": "Python 3"
    },
    "language_info": {
      "name": "python"
    }
  },
  "cells": [
    {
      "cell_type": "markdown",
      "metadata": {
        "id": "view-in-github",
        "colab_type": "text"
      },
      "source": [
        "<a href=\"https://colab.research.google.com/github/LatiefDataVisionary/pandas-with-indonesia-belajar/blob/main/Pandas_45_Memadukan_loc_dan_iloc_untuk_seleksi_data_pada_Data_Frame.ipynb\" target=\"_parent\"><img src=\"https://colab.research.google.com/assets/colab-badge.svg\" alt=\"Open In Colab\"/></a>"
      ]
    },
    {
      "cell_type": "markdown",
      "source": [
        "## **Pandas 45: Memadukan loc dan iloc untuk seleksi data pada Data Frame | Python Pandas | Data Science**\n"
      ],
      "metadata": {
        "id": "nogzpLETGmxH"
      }
    },
    {
      "cell_type": "code",
      "execution_count": null,
      "metadata": {
        "id": "qCUDgom-Glwp"
      },
      "outputs": [],
      "source": [
        "import pandas as pd\n",
        "import numpy as np\n",
        "\n",
        "print(pd.__version__)\n",
        "print(np.__version__)"
      ]
    },
    {
      "cell_type": "markdown",
      "source": [
        "Persiapan DataFrame"
      ],
      "metadata": {
        "id": "k27ZRGCcGwgu"
      }
    },
    {
      "cell_type": "code",
      "source": [],
      "metadata": {
        "id": "DslxwBJ5GyP2"
      },
      "execution_count": null,
      "outputs": []
    }
  ]
}